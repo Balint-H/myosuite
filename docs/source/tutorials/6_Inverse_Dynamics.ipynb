{
  "cells": [
    {
      "cell_type": "markdown",
      "metadata": {
        "id": "6YC339udeSMh"
      },
      "source": [
        "# Imports"
      ]
    },
    {
      "cell_type": "code",
      "execution_count": 36,
      "metadata": {
        "id": "HnDtiLaLUDOQ"
      },
      "outputs": [],
      "source": [
        "from myosuite.simhive.myo_sim.test_sims import TestSims as loader\n",
        "import scipy.sparse as spa\n",
        "from copy import deepcopy\n",
        "from tqdm import tqdm\n",
        "import pandas as pd\n",
        "import numpy as np\n",
        "import skvideo.io\n",
        "import mujoco\n",
        "import osqp"
      ]
    },
    {
      "cell_type": "markdown",
      "metadata": {
        "id": "5rC2_iseUDOT"
      },
      "source": [
        "# Introduction and core function\n",
        "In this tutorial a target trajectory will be replicated by MyoHand using MuJoCo inverse dynamics, i.e., given a sequence of joint angles *qpos*, a sequence of control *ctrl* will be generated. The following describes how the ***get_ctrl*** function works.\n",
        "The equation to solve for *ctrl*, accordingly to muscle actuators dynamics (https://mujoco.readthedocs.io/en/latest/modeling.html#muscles), is:\n",
        "$$\n",
        "AM\\cdot\\left(gain\\odot\\left(act+timestep\\cdot\\frac{ctrl-act}{\\tau}\\right)+bias\\right)-qfrc=0\\tag{1}\n",
        "$$\n",
        "where\n",
        "$$\n",
        "\\tau=\\tau_D+(\\tau_A-\\tau_D)\\cdot sigmoid\\left(\\frac{ctrl-act}{tausmooth}+0.5\\right)\n",
        "$$\n",
        "To find a solution quickly, it is better to reformulate the equation and solve a quadratic program (QP), i.e.:\n",
        "$$\n",
        "\\min_{x} \\frac{1}{2}x^TPx+q^Tx~~~s.t.~~~lb\\leq x\\leq ub\\tag{2}\n",
        "$$\n",
        "The major obstacle to this formulation is the sigmoid in the calculation of $\\tau$. MuJoCo implements the sigmoid using the polynomial $6x^5-15x^4+10x^3$ clipped between 0 and 1. To solve the QP, the sigmoid is approximated here with $1.875x-0.4375$ and, to limit its range for a good approximation, *tausmooth* is set to 5. The target equation can then be rewritten as:\n",
        "$$\n",
        "AM\\cdot\\left(gain\\odot\\left(act+timestep\\cdot\\frac{ctrl-act}{(ctrl-act)\\cdot \\tau_1+\\tau_2}\\right)+bias\\right)-qfrc=0\\tag{3}\n",
        "$$\n",
        "where\n",
        "$$\n",
        "\\tau_1=\\frac{\\tau_A-\\tau_D}{tausmooth}\\cdot 1.875,~~~\\tau_2=(\\tau_A+\\tau_D)\\cdot 0.5\n",
        "$$\n",
        "and consequently reformulated as:\n",
        "$$\n",
        "AM\\cdot x+k=0\\tag{4}\n",
        "$$\n",
        "where\n",
        "$$\n",
        "x=\\left(timestep\\cdot gain\\odot\\frac{ctrl-act}{(ctrl-act)\\cdot \\tau_1+\\tau_2}\\right),~~~k=AM\\cdot(gain\\odot act)+AM\\cdot bias-qfrc\n",
        "$$\n",
        "Referring to equation $(2)$ then:\n",
        "$$\n",
        "P=2\\cdot AM^T\\cdot AM\\tag{5}\n",
        "$$\n",
        "$$\n",
        "q=2\\cdot AM^T\\cdot k\\tag{6}\n",
        "$$\n",
        "$$\n",
        "lb=timestep\\cdot gain\\odot\\frac{1-act}{(1-act)\\cdot \\tau_1 + \\tau_2}\\tag{7}\n",
        "$$\n",
        "$$\n",
        "ub=timestep\\cdot gain\\odot\\frac{-act}{-act\\cdot \\tau_1 + \\tau_2}\\tag{8}\n",
        "$$\n",
        "After solving the QP for *x*, *ctrl* is then calculated as:\n",
        "$$\n",
        "ctrl = act + \\frac{x\\cdot\\tau_2}{timestep\\cdot gain-x\\cdot\\tau_1}\\tag{9}\n",
        "$$"
      ]
    },
    {
      "cell_type": "code",
      "execution_count": null,
      "metadata": {},
      "outputs": [],
      "source": [
        "def solve_qp(P, q, lb, ub, x0):\n",
        "    P = spa.csc_matrix(P)\n",
        "    A = spa.csc_matrix(spa.eye(q.shape[0]))\n",
        "    m = osqp.OSQP()\n",
        "    m.setup(P=P, q=q, A=A, l=lb, u=ub, verbose=False)\n",
        "    m.warm_start(x=x0)\n",
        "    res = m.solve()\n",
        "    return res.x"
      ]
    },
    {
      "cell_type": "code",
      "execution_count": 37,
      "metadata": {
        "id": "gqTH6NTJUDOV"
      },
      "outputs": [],
      "source": [
        "def get_ctrl(model, data, target_qpos):\n",
        "    \"\"\"\n",
        "    Compute the control needed to reach the target position in the next mujoco step.\n",
        "    \"\"\"\n",
        "    data_copy = deepcopy(data)\n",
        "    # ---- qfrc computation\n",
        "    data_copy.qpos = target_qpos.copy()\n",
        "    data_copy.qvel = (target_qpos - data.qpos)/model.opt.timestep\n",
        "    mujoco.mj_forward(model, data_copy)\n",
        "    data_copy.qacc = 0\n",
        "    mujoco.mj_inverse(model, data_copy)\n",
        "    qfrc = data_copy.qfrc_inverse\n",
        "    # ---- params computation\n",
        "    gain = np.array([])\n",
        "    bias = np.array([])\n",
        "    for idx_actuator in range(model.nu):\n",
        "        length = data_copy.actuator_length[idx_actuator]\n",
        "        lengthrange = model.actuator_lengthrange[idx_actuator]\n",
        "        velocity = data_copy.actuator_velocity[idx_actuator]\n",
        "        acc0 = model.actuator_acc0[idx_actuator]\n",
        "        prmb = model.actuator_biasprm[idx_actuator,:9]\n",
        "        prmg = model.actuator_gainprm[idx_actuator,:9]\n",
        "        bias = np.append(bias, mujoco.mju_muscleBias(length, lengthrange, acc0, prmb))\n",
        "        gain = np.append(gain, min(-1, mujoco.mju_muscleGain(length, velocity, lengthrange, acc0, prmg)))\n",
        "    tA = model.actuator_dynprm[:,0] * (0.5 + 1.5 * data.act)\n",
        "    tD = model.actuator_dynprm[:,1] / (0.5 + 1.5 * data.act)\n",
        "    tausmooth = model.actuator_dynprm[:,2]\n",
        "    AM = data_copy.actuator_moment.T\n",
        "    ts = model.opt.timestep\n",
        "    act = data.act\n",
        "    ctrl0 = data.ctrl\n",
        "    # ---- ctrl computation\n",
        "    t1 = (tA - tD) * 1.875 / tausmooth\n",
        "    t2 = (tA + tD) * 0.5\n",
        "    P = 2 * AM.T @ AM\n",
        "    k = AM @ (gain * act) + AM @ bias - qfrc\n",
        "    q = 2 * k @ AM\n",
        "    lb = gain * (1 - act) * ts / (t2 + t1 * (1 - act))\n",
        "    ub = - gain * act * ts / (t2 - t1 * act)\n",
        "    x0 = (gain * (ctrl0 - act) * ts) / ((ctrl0 - act) * t1 + t2)\n",
        "    x = solve_qp(P, q, lb, ub, x0)\n",
        "    ctrl = act + x * t2 / (gain * ts - x * t1)\n",
        "    return np.clip(ctrl,0,1)"
      ]
    },
    {
      "cell_type": "markdown",
      "metadata": {
        "id": "1RVZF2gYW5DN"
      },
      "source": [
        "# Main"
      ]
    },
    {
      "cell_type": "code",
      "execution_count": 45,
      "metadata": {
        "id": "mHhY8syiUDOW"
      },
      "outputs": [],
      "source": [
        "# ---- initializations\n",
        "model = loader.get_sim(None, 'hand/myohand.xml')\n",
        "model.actuator_dynprm[:,2] = 5 # tausmooth\n",
        "data = mujoco.MjData(model)\n",
        "traj = pd.read_csv('data\\\\6_trajectory.csv').values"
      ]
    },
    {
      "cell_type": "code",
      "execution_count": null,
      "metadata": {
        "id": "fqOQSBpxUDOW"
      },
      "outputs": [],
      "source": [
        "# ---- main loop\n",
        "all_ctrl = np.zeros(model.nu)\n",
        "for idx in (pbar := tqdm(range(traj.shape[0]))):\n",
        "    target_qpos = traj[idx, 1:]\n",
        "    data.ctrl = get_ctrl(model, data, target_qpos)\n",
        "    all_ctrl = np.vstack((all_ctrl, data.ctrl))\n",
        "    mujoco.mj_step(model, data)"
      ]
    },
    {
      "cell_type": "markdown",
      "metadata": {
        "id": "FPMdswPtUDOY"
      },
      "source": [
        "# Results"
      ]
    },
    {
      "cell_type": "code",
      "execution_count": 47,
      "metadata": {
        "id": "nGNlOqeqUDOY"
      },
      "outputs": [],
      "source": [
        "from IPython.display import HTML\n",
        "from base64 import b64encode\n",
        "\n",
        "def show_video(video_path, video_width = 400):\n",
        "    video_file = open(video_path, \"r+b\").read()\n",
        "    video_url = f\"data:video/mp4;base64,{b64encode(video_file).decode()}\"\n",
        "    return HTML(f\"\"\"<video autoplay width={video_width} controls><source src=\"{video_url}\"></video>\"\"\")"
      ]
    },
    {
      "cell_type": "code",
      "execution_count": null,
      "metadata": {
        "colab": {
          "base_uri": "https://localhost:8080/"
        },
        "id": "gx541FM0UDOZ",
        "outputId": "76bd2952-763f-4df5-ced7-da1cb691d326"
      },
      "outputs": [],
      "source": [
        "# ---- initializations\n",
        "data_ref = mujoco.MjData(model) # data for reference trajectory\n",
        "data_ach = mujoco.MjData(model) # data for achieved trajectory\n",
        "# ---- camera settings\n",
        "camera = mujoco.MjvCamera()\n",
        "camera.azimuth = 166.553\n",
        "camera.distance = 1.178\n",
        "camera.elevation = -36.793\n",
        "camera.lookat = np.array([-0.93762553, -0.34088276, 0.85067529])\n",
        "options_ref = mujoco.MjvOption()\n",
        "options_ref.flags[:] = 0\n",
        "options_ref.geomgroup[1:] = 0\n",
        "options_ach = mujoco.MjvOption()\n",
        "options_ach.flags[:] = 0\n",
        "options_ach.flags[4] = 1 # actuator ON\n",
        "options_ach.geomgroup[1:] = 0\n",
        "renderer = mujoco.Renderer(model)\n",
        "renderer.scene.flags[:] = 0\n",
        "# ---- generation loop\n",
        "frames = []\n",
        "for idx in (pbar := tqdm(range(traj.shape[0]))):\n",
        "    # ---- reference trajectory\n",
        "    data_ref.qpos = traj[idx, 1:]\n",
        "    mujoco.mj_step(model, data_ref)\n",
        "    renderer.update_scene(data_ref, camera=camera, scene_option=options_ref)\n",
        "    pixels_ref = renderer.render()\n",
        "    # ---- achieved trajectory\n",
        "    data_ach.ctrl = all_ctrl[idx+1, :]\n",
        "    mujoco.mj_step(model, data_ach)\n",
        "    renderer.update_scene(data_ach, camera=camera, scene_option=options_ach)\n",
        "    pixels_ach = renderer.render()\n",
        "    # ---- merging \n",
        "    pixels = np.append(pixels_ref, pixels_ach, axis=1)\n",
        "    frames.append(pixels)\n",
        "# ---- writing\n",
        "output_name = 'videos/myohand_freemovement.mp4'\n",
        "skvideo.io.vwrite(output_name, np.asarray(frames),outputdict={\"-pix_fmt\": \"yuv420p\"})"
      ]
    },
    {
      "cell_type": "markdown",
      "metadata": {
        "id": "90P5pWpD0lYV"
      },
      "source": [
        "Left, reference trajectory. Right, achieved trajectory by means of muscle activations resulting from inverse dynamics."
      ]
    },
    {
      "cell_type": "code",
      "execution_count": null,
      "metadata": {
        "colab": {
          "background_save": true,
          "base_uri": "https://localhost:8080/",
          "height": 172
        },
        "id": "18T5eIELWL0D",
        "outputId": "d4d432a8-6bb8-491a-bf97-c315ba9514b6"
      },
      "outputs": [],
      "source": [
        "show_video(output_name)"
      ]
    }
  ],
  "metadata": {
    "colab": {
      "collapsed_sections": [
        "aWZ_2IAdeMbW",
        "6YC339udeSMh"
      ],
      "provenance": []
    },
    "kernelspec": {
      "display_name": "myosuite_venv",
      "language": "python",
      "name": "python3"
    },
    "language_info": {
      "codemirror_mode": {
        "name": "ipython",
        "version": 3
      },
      "file_extension": ".py",
      "mimetype": "text/x-python",
      "name": "python",
      "nbconvert_exporter": "python",
      "pygments_lexer": "ipython3",
      "version": "3.8.7"
    }
  },
  "nbformat": 4,
  "nbformat_minor": 0
}
