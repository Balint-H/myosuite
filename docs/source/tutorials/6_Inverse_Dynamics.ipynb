{
  "cells": [
    {
      "cell_type": "markdown",
      "metadata": {
        "id": "aWZ_2IAdeMbW"
      },
      "source": [
        "# Installations"
      ]
    },
    {
      "cell_type": "code",
      "execution_count": null,
      "metadata": {
        "colab": {
          "base_uri": "https://localhost:8080/"
        },
        "id": "EKLYluhuUKma",
        "outputId": "c697ef91-1712-402f-d782-57ca99f18c67"
      },
      "outputs": [],
      "source": [
        "!pip install git+https://github.com/facebookresearch/myosuite.git\n",
        "!pip install tqdm\n",
        "%env MUJOCO_GL=egl"
      ]
    },
    {
      "cell_type": "markdown",
      "metadata": {
        "id": "6YC339udeSMh"
      },
      "source": [
        "# Imports"
      ]
    },
    {
      "cell_type": "code",
      "execution_count": null,
      "metadata": {
        "id": "HnDtiLaLUDOQ"
      },
      "outputs": [],
      "source": [
        "from myosuite.simhive.myo_sim.test_sims import TestSims as loader\n",
        "import scipy.optimize as optimize\n",
        "from copy import deepcopy\n",
        "from tqdm import tqdm\n",
        "import pandas as pd\n",
        "import numpy as np\n",
        "import skvideo.io\n",
        "import mujoco\n",
        "import mujoco.viewer\n",
        "import csv\n",
        "import sys\n",
        "import os"
      ]
    },
    {
      "cell_type": "markdown",
      "metadata": {
        "id": "5rC2_iseUDOT"
      },
      "source": [
        "# Introduction and core function\n",
        "In this tutorial a target trajectory will be replicated by MyoHand using MuJoCo inverse dynamics, i.e., given a sequence of joint angles *qpos*, a sequence of muscle activations *act* will be generated.\n",
        "To achieve this goal, the following optimization problem will be solved at each time step:\n",
        "\n",
        "$$\n",
        "\\begin{align*}\n",
        "\\min_{act}~&\\|~moment~\\cdot~(gain~*~act~+~bias)~-~qfrc~\\| \\\\\n",
        "s.t.~~& 0 \\leq~act~\\leq~1 \\\\\n",
        "& act_{t}~-~act_{t-1}~\\leq~0.1\n",
        "\\end{align*}\n",
        "$$\n",
        "\n",
        "The last constraint is to prevent *act* to change too much w.r.t. the previous state.\n",
        "\n",
        "The resulting muscle activations must be set directly on the actuators, without going through *ctrl*, since muscle filter dynamics is not taken into account in the optimization problem (see https://mujoco.readthedocs.io/en/stable/modeling.html#muscles). Therefore, in the next section, actuator dynamics is initialized as simple integrator (instead of muscle filter)."
      ]
    },
    {
      "cell_type": "code",
      "execution_count": null,
      "metadata": {
        "id": "gqTH6NTJUDOV"
      },
      "outputs": [],
      "source": [
        "def get_act(model, data, target_qpos):\n",
        "    \"\"\"\n",
        "    Compute the muscle activations needed to reach the target position in the next mujoco step.\n",
        "    \"\"\"\n",
        "    data_copy = deepcopy(data)\n",
        "    # ---- qfrc computation\n",
        "    data_copy.qpos = target_qpos.copy()\n",
        "    data_copy.qvel = (target_qpos - data.qpos)/model.opt.timestep\n",
        "    mujoco.mj_forward(model, data_copy)\n",
        "    data_copy.qacc = 0\n",
        "    mujoco.mj_inverse(model, data_copy)\n",
        "    qfrc = data_copy.qfrc_inverse.copy()\n",
        "    # ---- act computation\n",
        "    gain = np.array([])\n",
        "    bias = np.array([])\n",
        "    bounds = []\n",
        "    bounds_margin = 0.10\n",
        "    for idx_actuator in range(model.nu):\n",
        "        length = data_copy.actuator_length[idx_actuator]\n",
        "        lengthrange = model.actuator_lengthrange[idx_actuator]\n",
        "        velocity = data_copy.actuator_velocity[idx_actuator]\n",
        "        acc0 = model.actuator_acc0[idx_actuator]\n",
        "        prmb = model.actuator_biasprm[idx_actuator,:9]\n",
        "        prmg = model.actuator_gainprm[idx_actuator,:9]\n",
        "        bias = np.append(bias, mujoco.mju_muscleBias(length, lengthrange, acc0, prmb))\n",
        "        gain = np.append(gain, mujoco.mju_muscleGain(length, velocity, lengthrange, acc0, prmg))\n",
        "        bounds.append((max(0, data.act[idx_actuator]-bounds_margin), min(1, data.act[idx_actuator]+bounds_margin)))\n",
        "    cost_function = lambda act: np.linalg.norm((gain * act + bias) @ data_copy.actuator_moment - qfrc)\n",
        "    result = optimize.minimize(cost_function, data.act, method='SLSQP', bounds=tuple(bounds))\n",
        "    return result.x"
      ]
    },
    {
      "cell_type": "markdown",
      "metadata": {
        "id": "1RVZF2gYW5DN"
      },
      "source": [
        "# Main"
      ]
    },
    {
      "cell_type": "code",
      "execution_count": null,
      "metadata": {
        "id": "mHhY8syiUDOW"
      },
      "outputs": [],
      "source": [
        "# ---- initializations\n",
        "model = loader.get_sim(None, 'hand/myohand.xml')\n",
        "model.actuator_dyntype = mujoco.mjtDyn.mjDYN_INTEGRATOR # instead of mjDYN_MUSCLE\n",
        "data = mujoco.MjData(model)\n",
        "data_folder = '6_data/'\n",
        "input_file = '6_trajectory.csv'\n",
        "output_file = '6_activations.csv'\n",
        "traj = pd.read_csv(data_folder+input_file).values\n",
        "all_act = np.array([mujoco.mj_id2name(model, mujoco.mju_str2Type('actuator'.encode(sys.getdefaultencoding())), i) for i in range(model.nu)])"
      ]
    },
    {
      "cell_type": "code",
      "execution_count": null,
      "metadata": {
        "id": "fqOQSBpxUDOW"
      },
      "outputs": [],
      "source": [
        "# ---- main loop\n",
        "for idx in tqdm(range(traj.shape[0])):\n",
        "    target_qpos = traj[idx, 1:]\n",
        "    act = get_act(model, data, target_qpos)\n",
        "    all_act = np.vstack((all_act, act))\n",
        "    data.act = act\n",
        "    mujoco.mj_step(model, data)"
      ]
    },
    {
      "cell_type": "code",
      "execution_count": null,
      "metadata": {
        "id": "2sRj5zwvUDOX"
      },
      "outputs": [],
      "source": [
        "# ---- output saving\n",
        "with open(data_folder+output_file, 'w', encoding='UTF8', newline='') as f:\n",
        "    writer = csv.writer(f)\n",
        "    writer.writerows(all_act)"
      ]
    },
    {
      "cell_type": "markdown",
      "metadata": {
        "id": "FPMdswPtUDOY"
      },
      "source": [
        "# Results"
      ]
    },
    {
      "cell_type": "code",
      "execution_count": null,
      "metadata": {
        "id": "nGNlOqeqUDOY"
      },
      "outputs": [],
      "source": [
        "from IPython.display import HTML\n",
        "from base64 import b64encode\n",
        "\n",
        "def show_video(video_path, video_width = 400):\n",
        "    video_file = open(video_path, \"r+b\").read()\n",
        "    video_url = f\"data:video/mp4;base64,{b64encode(video_file).decode()}\"\n",
        "    return HTML(f\"\"\"<video autoplay width={video_width} controls><source src=\"{video_url}\"></video>\"\"\")"
      ]
    },
    {
      "cell_type": "code",
      "execution_count": null,
      "metadata": {
        "id": "Ggmcno4sUDOZ"
      },
      "outputs": [],
      "source": [
        "# ---- camera settings\n",
        "AZIMUTH = 166.553\n",
        "DISTANCE = 1.178\n",
        "ELEVATION = -36.793\n",
        "LOOKAT = [-0.93762553, -0.34088276, 0.85067529]"
      ]
    },
    {
      "cell_type": "code",
      "execution_count": null,
      "metadata": {
        "colab": {
          "base_uri": "https://localhost:8080/"
        },
        "id": "gx541FM0UDOZ",
        "outputId": "76bd2952-763f-4df5-ced7-da1cb691d326"
      },
      "outputs": [],
      "source": [
        "# ---- video generation\n",
        "data_ref = mujoco.MjData(model) # data for reference trajectory\n",
        "data_ach = mujoco.MjData(model) # data for achieved trajectory\n",
        "traj = pd.read_csv(data_folder+input_file).values\n",
        "acts = pd.read_csv(data_folder+output_file).values\n",
        "output_video = '6_output_video.mp4'\n",
        "\n",
        "camera = mujoco.MjvCamera()\n",
        "camera.azimuth = AZIMUTH\n",
        "camera.distance = DISTANCE\n",
        "camera.elevation = ELEVATION\n",
        "camera.lookat = np.array(LOOKAT)\n",
        "options_ref = mujoco.MjvOption()\n",
        "options_ref.flags[:] = 0\n",
        "options_ref.geomgroup[1:] = 0\n",
        "options_ach = mujoco.MjvOption()\n",
        "options_ach.flags[:] = 0\n",
        "options_ach.flags[[4,5]] = 1 # actuator and activation ON\n",
        "options_ach.geomgroup[1:] = 0\n",
        "renderer = mujoco.Renderer(model)\n",
        "renderer.scene.flags[:] = 0\n",
        "\n",
        "frames = []\n",
        "for idx in tqdm(range(traj.shape[0])):\n",
        "    # ---- ref related\n",
        "    data_ref.qpos = traj[idx, 1:]\n",
        "    mujoco.mj_step(model, data_ref)\n",
        "    renderer.update_scene(data_ref, camera=camera, scene_option=options_ref)\n",
        "    pixels_ref = renderer.render()\n",
        "    # ---- ach related\n",
        "    # required activations are directly set without going through ctrl\n",
        "    data_ach.act = acts[idx, :]\n",
        "    mujoco.mj_step(model, data_ach)\n",
        "    renderer.update_scene(data_ach, camera=camera, scene_option=options_ach)\n",
        "    pixels_ach = renderer.render()\n",
        "    # ---- merging\n",
        "    pixels = np.append(pixels_ref, pixels_ach, axis=1)\n",
        "    frames.append(pixels)\n",
        "\n",
        "skvideo.io.vwrite(data_folder+output_video, np.asarray(frames),outputdict={\"-pix_fmt\": \"yuv420p\"})"
      ]
    },
    {
      "cell_type": "markdown",
      "metadata": {
        "id": "90P5pWpD0lYV"
      },
      "source": [
        "Left, reference trajectory. Right, achieved trajectory by means of muscle activations resulting from inverse dynamics."
      ]
    },
    {
      "cell_type": "code",
      "execution_count": null,
      "metadata": {
        "colab": {
          "background_save": true,
          "base_uri": "https://localhost:8080/",
          "height": 172
        },
        "id": "18T5eIELWL0D",
        "outputId": "d4d432a8-6bb8-491a-bf97-c315ba9514b6"
      },
      "outputs": [],
      "source": [
        "show_video(data_folder+output_video)"
      ]
    }
  ],
  "metadata": {
    "colab": {
      "collapsed_sections": [
        "aWZ_2IAdeMbW",
        "6YC339udeSMh"
      ],
      "provenance": []
    },
    "kernelspec": {
      "display_name": "myosuite_venv",
      "language": "python",
      "name": "python3"
    },
    "language_info": {
      "codemirror_mode": {
        "name": "ipython",
        "version": 3
      },
      "file_extension": ".py",
      "mimetype": "text/x-python",
      "name": "python",
      "nbconvert_exporter": "python",
      "pygments_lexer": "ipython3",
      "version": "3.8.7"
    }
  },
  "nbformat": 4,
  "nbformat_minor": 0
}
